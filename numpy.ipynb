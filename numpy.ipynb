{
 "cells": [
  {
   "cell_type": "markdown",
   "id": "960da586-c0d8-42cc-a32b-120a18ef7868",
   "metadata": {},
   "source": [
    "# Load in Numpy to perform ."
   ]
  },
  {
   "cell_type": "code",
   "execution_count": 200,
   "id": "ce3bf18b-ca2e-404a-89f9-a3ad0a0b6cf3",
   "metadata": {},
   "outputs": [],
   "source": [
    "# list -  Python lists are flexible containers that can hold mixed types but are slower and less efficient for mathematical operations.\n",
    "\n",
    "# Numpy - NumPy arrays are optimized for fast, memory-efficient numerical computations with homogeneous data,"
   ]
  },
  {
   "cell_type": "code",
   "execution_count": 201,
   "id": "43c9ea61-31d7-4cbb-91f9-bfc5b016d31e",
   "metadata": {},
   "outputs": [],
   "source": [
    "import numpy as np"
   ]
  },
  {
   "cell_type": "markdown",
   "id": "e31e894c-7124-4f4c-89ba-c372c9f91207",
   "metadata": {},
   "source": [
    "## The Basics"
   ]
  },
  {
   "cell_type": "code",
   "execution_count": 202,
   "id": "3a843a9d-b2df-4d86-b20f-baefec07fc9d",
   "metadata": {},
   "outputs": [
    {
     "name": "stdout",
     "output_type": "stream",
     "text": [
      "[1 2 3]\n",
      "int32\n"
     ]
    }
   ],
   "source": [
    "# 1-D \n",
    "a = np.array([1,2,3], dtype = 'int32')# change the data storage\n",
    "print(a)\n",
    "print(a.dtype)"
   ]
  },
  {
   "cell_type": "code",
   "execution_count": 203,
   "id": "fc386591-e345-4566-ad46-bc9caf440c20",
   "metadata": {},
   "outputs": [
    {
     "name": "stdout",
     "output_type": "stream",
     "text": [
      "[[2. 3. 4.]\n",
      " [6. 7. 8.]]\n"
     ]
    }
   ],
   "source": [
    "# 2 -dimension\n",
    "b = np.array([[2.0, 3.0,4.0],[6.0,7.0,8.0]])\n",
    "print(b)\n"
   ]
  },
  {
   "cell_type": "code",
   "execution_count": 204,
   "id": "beb30cc2-04c9-4172-bfac-f102048ad54b",
   "metadata": {},
   "outputs": [
    {
     "data": {
      "text/plain": [
       "2"
      ]
     },
     "execution_count": 204,
     "metadata": {},
     "output_type": "execute_result"
    }
   ],
   "source": [
    "# Get the dimension\n",
    "b.ndim \n"
   ]
  },
  {
   "cell_type": "code",
   "execution_count": 205,
   "id": "f852206a-418b-4775-9dbc-9e948ae869db",
   "metadata": {},
   "outputs": [
    {
     "data": {
      "text/plain": [
       "(2, 3)"
      ]
     },
     "execution_count": 205,
     "metadata": {},
     "output_type": "execute_result"
    }
   ],
   "source": [
    "# How many Rows and Columns (Rows,columns)\n",
    "b.shape"
   ]
  },
  {
   "cell_type": "code",
   "execution_count": 206,
   "id": "57df35a2-206a-44ee-a52a-b4e4ae4a70ca",
   "metadata": {},
   "outputs": [
    {
     "data": {
      "text/plain": [
       "dtype('int32')"
      ]
     },
     "execution_count": 206,
     "metadata": {},
     "output_type": "execute_result"
    }
   ],
   "source": [
    "# Get the datatype\n",
    "b.dtype\n",
    "a.dtype"
   ]
  },
  {
   "cell_type": "code",
   "execution_count": 207,
   "id": "1ff8c4e8-80a8-4fe4-a76b-ad90dc6479aa",
   "metadata": {},
   "outputs": [
    {
     "data": {
      "text/plain": [
       "8"
      ]
     },
     "execution_count": 207,
     "metadata": {},
     "output_type": "execute_result"
    }
   ],
   "source": [
    "# Get Size \n",
    "# 1 byte = 8 bit\n",
    "# bool take 1 byte\n",
    "# int32 take 4 byte int64 take 8 \n",
    "# float take 8 byte\n",
    "# string based on length\n",
    "b.itemsize"
   ]
  },
  {
   "cell_type": "code",
   "execution_count": 208,
   "id": "8ffe2633-7559-4844-bc81-a38f79795562",
   "metadata": {},
   "outputs": [
    {
     "data": {
      "text/plain": [
       "48"
      ]
     },
     "execution_count": 208,
     "metadata": {},
     "output_type": "execute_result"
    }
   ],
   "source": [
    "# Get total size \n",
    "# nbytes - returns the total number of bytes consumed by the entire NumPy array (not just one element).\n",
    "b.nbytes"
   ]
  },
  {
   "cell_type": "markdown",
   "id": "faf0a50f-16b0-4931-98c2-c03c449d4fb4",
   "metadata": {},
   "source": [
    "# Accessing / changing specific elements, rows, columns etc"
   ]
  },
  {
   "cell_type": "code",
   "execution_count": 209,
   "id": "6b4f946e-8ec2-4a2f-b223-4ff732d41a1d",
   "metadata": {},
   "outputs": [],
   "source": [
    "a = np.array([\n",
    "    [1,2,3,4,5,6,7],\n",
    "    [8,9,10,11,12,13,14]\n",
    "])"
   ]
  },
  {
   "cell_type": "code",
   "execution_count": 210,
   "id": "34f1a814-04f4-4930-b19e-34e5b749fb09",
   "metadata": {},
   "outputs": [
    {
     "name": "stdout",
     "output_type": "stream",
     "text": [
      "[[ 1  2  3  4  5  6  7]\n",
      " [ 8  9 10 11 12 13 14]]\n"
     ]
    }
   ],
   "source": [
    "print(a)"
   ]
  },
  {
   "cell_type": "code",
   "execution_count": 211,
   "id": "fc489fbc-aeec-475a-8bb6-583b35bd938a",
   "metadata": {},
   "outputs": [
    {
     "data": {
      "text/plain": [
       "np.int64(13)"
      ]
     },
     "execution_count": 211,
     "metadata": {},
     "output_type": "execute_result"
    }
   ],
   "source": [
    "# Get a specific element [row, col]\n",
    "# index start with 0\n",
    "# a[1,-2] # negative indexing\n",
    "a[1,5]# output 13\n"
   ]
  },
  {
   "cell_type": "code",
   "execution_count": 212,
   "id": "fdfc8f74-1195-46f1-b94e-d1c6b61f8aa0",
   "metadata": {},
   "outputs": [
    {
     "data": {
      "text/plain": [
       "array([1, 2, 3, 4, 5, 6, 7])"
      ]
     },
     "execution_count": 212,
     "metadata": {},
     "output_type": "execute_result"
    }
   ],
   "source": [
    "# Get a specific row\n",
    "# Row 1 element\n",
    "a[0,:]"
   ]
  },
  {
   "cell_type": "code",
   "execution_count": 213,
   "id": "8775886b-024c-4a38-82d6-18cff7d610d8",
   "metadata": {},
   "outputs": [
    {
     "data": {
      "text/plain": [
       "array([ 3, 10])"
      ]
     },
     "execution_count": 213,
     "metadata": {},
     "output_type": "execute_result"
    }
   ],
   "source": [
    "# Get a specific column\n",
    "# column 2 elements\n",
    "a[:,2]"
   ]
  },
  {
   "cell_type": "code",
   "execution_count": 214,
   "id": "71edd33b-9ed2-4bde-9c5f-75deba4634fa",
   "metadata": {},
   "outputs": [
    {
     "data": {
      "text/plain": [
       "array([2, 4, 6])"
      ]
     },
     "execution_count": 214,
     "metadata": {},
     "output_type": "execute_result"
    }
   ],
   "source": [
    "# Getting a little more fancy [startindex:ending:stepsize]\n",
    "# startindex = inlusive\n",
    "# ending = Exclude\n",
    "# step = jump\n",
    "a[0,1:-1:2]"
   ]
  },
  {
   "cell_type": "code",
   "execution_count": 215,
   "id": "43460635-60cf-413a-affc-4071b06f00a0",
   "metadata": {},
   "outputs": [
    {
     "data": {
      "text/plain": [
       "array([[ 1,  2,  3,  4,  5,  6,  7],\n",
       "       [ 8,  9, 10, 11, 12, 20, 14]])"
      ]
     },
     "execution_count": 215,
     "metadata": {},
     "output_type": "execute_result"
    }
   ],
   "source": [
    "# update value at given index\n",
    "a[1,5] = 20\n",
    "a"
   ]
  },
  {
   "cell_type": "markdown",
   "id": "6f23181b-e78b-40cd-b7c0-99c96a93dec0",
   "metadata": {},
   "source": [
    "# 3- D Example"
   ]
  },
  {
   "cell_type": "code",
   "execution_count": 216,
   "id": "eb7c65e0-ffbd-487b-a559-b5122f6cc173",
   "metadata": {},
   "outputs": [],
   "source": [
    "arr = [[[1,2],[3,4]],[[5,6],[7,8]]]"
   ]
  },
  {
   "cell_type": "code",
   "execution_count": 217,
   "id": "f129b9c5-5c27-42fe-8eaa-bee4a84e8ce7",
   "metadata": {},
   "outputs": [
    {
     "data": {
      "text/plain": [
       "array([[[1, 2],\n",
       "        [3, 4]],\n",
       "\n",
       "       [[5, 6],\n",
       "        [7, 8]]])"
      ]
     },
     "execution_count": 217,
     "metadata": {},
     "output_type": "execute_result"
    }
   ],
   "source": [
    "d = np.array(arr)\n",
    "d"
   ]
  },
  {
   "cell_type": "code",
   "execution_count": 218,
   "id": "a80b06a4-2271-46f8-9aa1-b3484345dc50",
   "metadata": {},
   "outputs": [
    {
     "data": {
      "text/plain": [
       "[[[1, 2], [3, 4]], [[5, 6], [7, 8]]]"
      ]
     },
     "execution_count": 218,
     "metadata": {},
     "output_type": "execute_result"
    }
   ],
   "source": [
    "arr = [[[1,2],[3,4]],[[5,6],[7,8]]]\n",
    "arr"
   ]
  },
  {
   "cell_type": "code",
   "execution_count": 219,
   "id": "861dba4d-6183-49e5-b5d4-f92aab69a3fe",
   "metadata": {},
   "outputs": [
    {
     "data": {
      "text/plain": [
       "array([[[1, 2],\n",
       "        [3, 4]],\n",
       "\n",
       "       [[5, 6],\n",
       "        [7, 8]]])"
      ]
     },
     "execution_count": 219,
     "metadata": {},
     "output_type": "execute_result"
    }
   ],
   "source": [
    "dd = np.array(arr)\n",
    "dd"
   ]
  },
  {
   "cell_type": "code",
   "execution_count": 220,
   "id": "862659e5-043b-4d27-b424-83c9c6e1ccbc",
   "metadata": {},
   "outputs": [
    {
     "data": {
      "text/plain": [
       "3"
      ]
     },
     "execution_count": 220,
     "metadata": {},
     "output_type": "execute_result"
    }
   ],
   "source": [
    "dd.ndim"
   ]
  },
  {
   "cell_type": "code",
   "execution_count": 221,
   "id": "7040cbf6-f46b-48cd-b937-8effb5f46a82",
   "metadata": {},
   "outputs": [
    {
     "data": {
      "text/plain": [
       "np.int64(4)"
      ]
     },
     "execution_count": 221,
     "metadata": {},
     "output_type": "execute_result"
    }
   ],
   "source": [
    "# Get specific element (work outside in)\n",
    "# [depth, row, columns]\n",
    "# depth if you make another matrix inside matrix \n",
    "dd[0,1,1]\n"
   ]
  },
  {
   "cell_type": "code",
   "execution_count": 222,
   "id": "d900c314-60bf-4104-843b-37a2637e87c5",
   "metadata": {},
   "outputs": [
    {
     "data": {
      "text/plain": [
       "array([3, 4])"
      ]
     },
     "execution_count": 222,
     "metadata": {},
     "output_type": "execute_result"
    }
   ],
   "source": [
    "# dd[depth_index, row_index]\n",
    "dd[0,1]"
   ]
  },
  {
   "cell_type": "code",
   "execution_count": 223,
   "id": "5f421b5b-22de-40e5-966a-ceca70a5400a",
   "metadata": {},
   "outputs": [],
   "source": [
    "# Replace\n"
   ]
  },
  {
   "cell_type": "markdown",
   "id": "1b79eb93-5a70-4723-95d5-69b88c3c8000",
   "metadata": {},
   "source": [
    "# Iniltializing Different Types of Arrays"
   ]
  },
  {
   "cell_type": "code",
   "execution_count": 224,
   "id": "465c0491-9b0b-4079-b503-199fb92064d9",
   "metadata": {},
   "outputs": [
    {
     "data": {
      "text/plain": [
       "array([0., 0., 0., 0., 0.])"
      ]
     },
     "execution_count": 224,
     "metadata": {},
     "output_type": "execute_result"
    }
   ],
   "source": [
    "# all zeros matrix\n",
    "np.zeros(5)"
   ]
  },
  {
   "cell_type": "code",
   "execution_count": 225,
   "id": "cc0c03cd-f2f1-4ff8-ab3b-a681018ae510",
   "metadata": {},
   "outputs": [
    {
     "data": {
      "text/plain": [
       "array([[[0., 0., 0.],\n",
       "        [0., 0., 0.],\n",
       "        [0., 0., 0.]],\n",
       "\n",
       "       [[0., 0., 0.],\n",
       "        [0., 0., 0.],\n",
       "        [0., 0., 0.]]])"
      ]
     },
     "execution_count": 225,
     "metadata": {},
     "output_type": "execute_result"
    }
   ],
   "source": [
    "# All 0s matrix 2D 3D\n",
    "# (2, 3, 3) means:\n",
    "#2 → There are 2 matrices (or \"depth\" layers).\n",
    "#3 → Each matrix has 3 rows.\n",
    "#3 → Each row has 3 columns.\n",
    "np.zeros((2,3,3))\n",
    "#np.zeros()"
   ]
  },
  {
   "cell_type": "code",
   "execution_count": 226,
   "id": "983bb74c-53d9-4ef6-9410-01dfca03a6d2",
   "metadata": {},
   "outputs": [
    {
     "name": "stdout",
     "output_type": "stream",
     "text": [
      "[[[1 1 1 1]\n",
      "  [1 1 1 1]\n",
      "  [1 1 1 1]]\n",
      "\n",
      " [[1 1 1 1]\n",
      "  [1 1 1 1]\n",
      "  [1 1 1 1]]]\n"
     ]
    }
   ],
   "source": [
    "# all ones matrix\n",
    "one = np.ones((2,3,4),dtype = 'int32')\n",
    "print(one)"
   ]
  },
  {
   "cell_type": "code",
   "execution_count": 227,
   "id": "18031996-02db-43ca-b348-38457b06105c",
   "metadata": {},
   "outputs": [
    {
     "data": {
      "text/plain": [
       "dtype('int32')"
      ]
     },
     "execution_count": 227,
     "metadata": {},
     "output_type": "execute_result"
    }
   ],
   "source": [
    "one.dtype"
   ]
  },
  {
   "cell_type": "code",
   "execution_count": 228,
   "id": "0a544ef0-3d44-4bf9-98de-ebb027ba3e51",
   "metadata": {},
   "outputs": [
    {
     "data": {
      "text/plain": [
       "array([[99, 99],\n",
       "       [99, 99]])"
      ]
     },
     "execution_count": 228,
     "metadata": {},
     "output_type": "execute_result"
    }
   ],
   "source": [
    "# Any other number\n",
    "np.full((2,2),99)"
   ]
  },
  {
   "cell_type": "code",
   "execution_count": 229,
   "id": "2f7b38dc-3b98-4caa-9b7a-68e802e08ac5",
   "metadata": {},
   "outputs": [
    {
     "data": {
      "text/plain": [
       "array([[4, 4, 4, 4, 4, 4, 4],\n",
       "       [4, 4, 4, 4, 4, 4, 4]])"
      ]
     },
     "execution_count": 229,
     "metadata": {},
     "output_type": "execute_result"
    }
   ],
   "source": [
    "# any other number(full_like)\n",
    "np.full_like(a,4)"
   ]
  },
  {
   "cell_type": "code",
   "execution_count": 230,
   "id": "f96be181-defa-4cc7-9593-220acb509e5c",
   "metadata": {},
   "outputs": [
    {
     "data": {
      "text/plain": [
       "array([[[0.48041971, 0.26723474, 0.66671114, 0.64195678],\n",
       "        [0.53194239, 0.78357692, 0.73583481, 0.63656904],\n",
       "        [0.06275326, 0.34363174, 0.54662777, 0.2923797 ]],\n",
       "\n",
       "       [[0.15011361, 0.27842375, 0.43005372, 0.124202  ],\n",
       "        [0.44913156, 0.77491894, 0.24491778, 0.03188869],\n",
       "        [0.10574156, 0.15965884, 0.70197913, 0.74762936]]])"
      ]
     },
     "execution_count": 230,
     "metadata": {},
     "output_type": "execute_result"
    }
   ],
   "source": [
    "# Random decimal number\n",
    "# np.random.rand(3,4)\n",
    "np.random.rand(2,3,4)"
   ]
  },
  {
   "cell_type": "code",
   "execution_count": 231,
   "id": "36f1127c-6ea3-4c51-bf27-32f258134894",
   "metadata": {},
   "outputs": [
    {
     "ename": "AttributeError",
     "evalue": "module 'numpy.random' has no attribute 'randit'",
     "output_type": "error",
     "traceback": [
      "\u001b[1;31m---------------------------------------------------------------------------\u001b[0m",
      "\u001b[1;31mAttributeError\u001b[0m                            Traceback (most recent call last)",
      "Cell \u001b[1;32mIn[231], line 2\u001b[0m\n\u001b[0;32m      1\u001b[0m \u001b[38;5;66;03m#Random integer values\u001b[39;00m\n\u001b[1;32m----> 2\u001b[0m \u001b[43mnp\u001b[49m\u001b[38;5;241;43m.\u001b[39;49m\u001b[43mrandom\u001b[49m\u001b[38;5;241;43m.\u001b[39;49m\u001b[43mrandit\u001b[49m(\u001b[38;5;241m7\u001b[39m,size\u001b[38;5;241m=\u001b[39m(\u001b[38;5;241m3\u001b[39m,\u001b[38;5;241m3\u001b[39m))\n",
      "\u001b[1;31mAttributeError\u001b[0m: module 'numpy.random' has no attribute 'randit'"
     ]
    }
   ],
   "source": [
    "#Random integer values\n",
    "np.random.randit(7,size=(3,3))"
   ]
  },
  {
   "cell_type": "code",
   "execution_count": 235,
   "id": "94d66e1d-06c4-42f6-a5e1-51a7afd0a88e",
   "metadata": {},
   "outputs": [
    {
     "data": {
      "text/plain": [
       "array([[1., 0., 0.],\n",
       "       [0., 1., 0.],\n",
       "       [0., 0., 1.]])"
      ]
     },
     "execution_count": 235,
     "metadata": {},
     "output_type": "execute_result"
    }
   ],
   "source": [
    "# The identity matrix\n",
    "np.identity(3)"
   ]
  },
  {
   "cell_type": "code",
   "execution_count": 236,
   "id": "4b61c6ff-d4d7-464c-853d-d6c5758b95a0",
   "metadata": {},
   "outputs": [
    {
     "name": "stdout",
     "output_type": "stream",
     "text": [
      "[[1 1 1 2 2 2 3 3 3]]\n"
     ]
    }
   ],
   "source": [
    "# Repeate an array\n",
    "arr = np.array([[1,2,3]])\n",
    "r1 = np.repeat(arr,3,axis = 1)\n",
    "print(r1)"
   ]
  },
  {
   "cell_type": "code",
   "execution_count": 237,
   "id": "11d39aa7-2b13-44f7-9182-95f44f106b10",
   "metadata": {},
   "outputs": [
    {
     "name": "stdout",
     "output_type": "stream",
     "text": [
      "[[1. 1. 1. 1. 1.]\n",
      " [1. 1. 1. 1. 1.]\n",
      " [1. 1. 1. 1. 1.]\n",
      " [1. 1. 1. 1. 1.]\n",
      " [1. 1. 1. 1. 1.]]\n",
      "[[0. 0. 0.]\n",
      " [0. 9. 0.]\n",
      " [0. 0. 0.]]\n",
      "[[1. 1. 1. 1. 1.]\n",
      " [1. 0. 0. 0. 1.]\n",
      " [1. 0. 9. 0. 1.]\n",
      " [1. 0. 0. 0. 1.]\n",
      " [1. 1. 1. 1. 1.]]\n"
     ]
    }
   ],
   "source": [
    "output = np.ones((5,5))\n",
    "print(output)\n",
    "\n",
    "z = np.zeros((3,3))\n",
    "z[1,1] = 9\n",
    "print(z)\n",
    "\n",
    "output[1:-1,1:-1]  = z\n",
    "print(output)"
   ]
  },
  {
   "cell_type": "markdown",
   "id": "b7d9defd-ba22-417d-8a5c-ce4d4ce0048a",
   "metadata": {},
   "source": [
    "## Be careful when copying arrays"
   ]
  },
  {
   "cell_type": "code",
   "execution_count": 238,
   "id": "730c1def-7c70-462d-bdb1-5020040db8bc",
   "metadata": {},
   "outputs": [
    {
     "name": "stdout",
     "output_type": "stream",
     "text": [
      "[100   2   3]\n"
     ]
    }
   ],
   "source": [
    "a= np.array([1,2,3])\n",
    "b =a #  arraay a in b\n",
    "b[0] = 100 # 0 index is set to 100\n",
    "print(a)"
   ]
  },
  {
   "cell_type": "code",
   "execution_count": 239,
   "id": "f546b8e7-25d8-4242-a0df-c802778008eb",
   "metadata": {},
   "outputs": [
    {
     "name": "stdout",
     "output_type": "stream",
     "text": [
      "[1 2 3]\n"
     ]
    }
   ],
   "source": [
    "a= np.array([1,2,3])\n",
    "b =a.copy() #  copy arraay \n",
    "b[0] = 100 # 0 index is set to 100\n",
    "print(a)"
   ]
  },
  {
   "cell_type": "markdown",
   "id": "b660b7da-2aa3-42d9-b897-d6ef6d30359e",
   "metadata": {},
   "source": [
    "## Mathematics"
   ]
  },
  {
   "cell_type": "code",
   "execution_count": 240,
   "id": "9ff6f10f-ffa6-4147-8639-6090c9c50057",
   "metadata": {},
   "outputs": [
    {
     "name": "stdout",
     "output_type": "stream",
     "text": [
      "[1 2 3]\n"
     ]
    }
   ],
   "source": [
    "a = np.array ([1,2,3])\n",
    "print(a)"
   ]
  },
  {
   "cell_type": "code",
   "execution_count": 241,
   "id": "d59c22ef-8ed2-45f4-9e41-b1cb8f6dce45",
   "metadata": {},
   "outputs": [
    {
     "data": {
      "text/plain": [
       "array([3, 4, 5])"
      ]
     },
     "execution_count": 241,
     "metadata": {},
     "output_type": "execute_result"
    }
   ],
   "source": [
    "# add 2 in all element of array\n",
    "a+2"
   ]
  },
  {
   "cell_type": "code",
   "execution_count": 242,
   "id": "ff893f4e-b032-4969-bd6a-2752b14b0b15",
   "metadata": {},
   "outputs": [
    {
     "data": {
      "text/plain": [
       "array([0, 1, 2])"
      ]
     },
     "execution_count": 242,
     "metadata": {},
     "output_type": "execute_result"
    }
   ],
   "source": [
    "# Substract\n",
    "a-1"
   ]
  },
  {
   "cell_type": "code",
   "execution_count": 243,
   "id": "02d89643-cbe8-4e83-a82e-d58c6927b622",
   "metadata": {},
   "outputs": [
    {
     "data": {
      "text/plain": [
       "array([2, 4, 6])"
      ]
     },
     "execution_count": 243,
     "metadata": {},
     "output_type": "execute_result"
    }
   ],
   "source": [
    "a *2"
   ]
  },
  {
   "cell_type": "code",
   "execution_count": 244,
   "id": "f700c06b-68b7-42ff-bc7d-7ed64794f12b",
   "metadata": {},
   "outputs": [
    {
     "data": {
      "text/plain": [
       "array([1, 4, 9])"
      ]
     },
     "execution_count": 244,
     "metadata": {},
     "output_type": "execute_result"
    }
   ],
   "source": [
    "a**2 # exponent"
   ]
  },
  {
   "cell_type": "code",
   "execution_count": 245,
   "id": "20e7b3a7-d803-466c-bc5f-988260effb96",
   "metadata": {},
   "outputs": [
    {
     "data": {
      "text/plain": [
       "array([0.5, 1. , 1.5])"
      ]
     },
     "execution_count": 245,
     "metadata": {},
     "output_type": "execute_result"
    }
   ],
   "source": [
    "a/2"
   ]
  },
  {
   "cell_type": "code",
   "execution_count": 246,
   "id": "2fb122cc-c36d-4f6b-9f97-9236a37d5c69",
   "metadata": {},
   "outputs": [
    {
     "data": {
      "text/plain": [
       "array([0, 1, 1])"
      ]
     },
     "execution_count": 246,
     "metadata": {},
     "output_type": "execute_result"
    }
   ],
   "source": [
    "a//2 # floor division"
   ]
  },
  {
   "cell_type": "code",
   "execution_count": 247,
   "id": "243dadc2-2695-4d05-a794-c4b84cdaa5b4",
   "metadata": {},
   "outputs": [
    {
     "data": {
      "text/plain": [
       "array([101,   4,   6])"
      ]
     },
     "execution_count": 247,
     "metadata": {},
     "output_type": "execute_result"
    }
   ],
   "source": [
    "# Lets add another array \n",
    "a + b"
   ]
  },
  {
   "cell_type": "code",
   "execution_count": 251,
   "id": "f7a8aaa7-e057-431e-8cc1-17d5a8ab9222",
   "metadata": {},
   "outputs": [
    {
     "data": {
      "text/plain": [
       "array([ 0.54030231, -0.41614684, -0.9899925 ])"
      ]
     },
     "execution_count": 251,
     "metadata": {},
     "output_type": "execute_result"
    }
   ],
   "source": [
    "# Take the sin\n",
    "np.sin(a)\n",
    "np.cos(a)"
   ]
  },
  {
   "cell_type": "markdown",
   "id": "0e5b732c-101c-46e1-9622-79c3fef19fbd",
   "metadata": {},
   "source": [
    "## Linear Algebra"
   ]
  },
  {
   "cell_type": "code",
   "execution_count": 254,
   "id": "5b1107ef-cbfe-4d00-ab70-0da7e8d982a2",
   "metadata": {},
   "outputs": [
    {
     "name": "stdout",
     "output_type": "stream",
     "text": [
      "[[1. 1. 1.]\n",
      " [1. 1. 1.]]\n",
      "[[2 2]\n",
      " [2 2]\n",
      " [2 2]]\n"
     ]
    },
    {
     "data": {
      "text/plain": [
       "array([[6., 6.],\n",
       "       [6., 6.]])"
      ]
     },
     "execution_count": 254,
     "metadata": {},
     "output_type": "execute_result"
    }
   ],
   "source": [
    "a = np.ones((2,3))\n",
    "print(a)\n",
    "b = np.full((3,2),2)\n",
    "print(b)\n",
    "\n",
    "\n",
    "np.matmul(a,b)"
   ]
  },
  {
   "cell_type": "code",
   "execution_count": 258,
   "id": "f6883ca1-0e25-420d-9a7f-14d882206187",
   "metadata": {},
   "outputs": [
    {
     "name": "stdout",
     "output_type": "stream",
     "text": [
      "[[1. 0. 0.]\n",
      " [0. 1. 0.]\n",
      " [0. 0. 1.]]\n"
     ]
    }
   ],
   "source": [
    "# Find the deteminant\n",
    "c = np.identity(3)\n",
    "np.linalg.det(c)"
   ]
  },
  {
   "cell_type": "code",
   "execution_count": null,
   "id": "95fad349-1216-4447-9377-a9cd929d3d06",
   "metadata": {},
   "outputs": [],
   "source": [
    "# Determinant\n",
    "# Trace \n",
    "# Singular Vector Decomposition\n",
    "# Eingenvalues\n",
    "# Matrix Norm\n",
    "# Inverse"
   ]
  },
  {
   "cell_type": "markdown",
   "id": "0b3a6279-c47c-4a34-b3aa-e813cf0ed930",
   "metadata": {},
   "source": [
    "# Statistics"
   ]
  },
  {
   "cell_type": "code",
   "execution_count": 259,
   "id": "6770a709-3861-4611-9989-717f79b66721",
   "metadata": {},
   "outputs": [
    {
     "name": "stdout",
     "output_type": "stream",
     "text": [
      "[[1 2 3]\n",
      " [4 5 6]]\n"
     ]
    }
   ],
   "source": [
    "stats = np.array([[1,2,3],\n",
    "                  [4,5,6]])\n",
    "print(stats)"
   ]
  },
  {
   "cell_type": "code",
   "execution_count": 263,
   "id": "a99cc8b2-bb96-4f75-898e-137da3d0fbb2",
   "metadata": {},
   "outputs": [
    {
     "name": "stdout",
     "output_type": "stream",
     "text": [
      "6\n"
     ]
    }
   ],
   "source": [
    "# To get maximum values\n",
    "max_va = np.max(stats)\n",
    "print(max_va)"
   ]
  },
  {
   "cell_type": "code",
   "execution_count": 264,
   "id": "8f64af15-3675-4075-a055-8c56141a61d3",
   "metadata": {},
   "outputs": [
    {
     "name": "stdout",
     "output_type": "stream",
     "text": [
      "1\n"
     ]
    }
   ],
   "source": [
    "# to get minimum value we can use axis\n",
    "min_val = np.min(stats)\n",
    "print(min_val)"
   ]
  },
  {
   "cell_type": "code",
   "execution_count": 265,
   "id": "9155fbe0-2d71-4759-8084-2b3b2ba2b49d",
   "metadata": {},
   "outputs": [
    {
     "name": "stdout",
     "output_type": "stream",
     "text": [
      "3.5\n"
     ]
    }
   ],
   "source": [
    "# TO get the mean or we can say the average value\n",
    "avg_va = np.mean(stats)\n",
    "print(avg_va)"
   ]
  },
  {
   "cell_type": "code",
   "execution_count": 267,
   "id": "b5d9e82d-b1e4-4fc4-9ab6-86b08086bae7",
   "metadata": {},
   "outputs": [
    {
     "name": "stdout",
     "output_type": "stream",
     "text": [
      "21\n"
     ]
    }
   ],
   "source": [
    "# To add all values of array\n",
    "add = np.sum(stats)\n",
    "print(add)"
   ]
  },
  {
   "cell_type": "markdown",
   "id": "5abb8768-25e7-4c4f-ace5-134f3935ecc8",
   "metadata": {},
   "source": [
    "# Reorganizing Arrays"
   ]
  },
  {
   "cell_type": "code",
   "execution_count": 269,
   "id": "689a534b-5814-4a90-8882-1a0c0483e5a0",
   "metadata": {},
   "outputs": [
    {
     "name": "stdout",
     "output_type": "stream",
     "text": [
      "[[1 2 3 4]\n",
      " [5 6 7 8]]\n",
      "[[1]\n",
      " [2]\n",
      " [3]\n",
      " [4]\n",
      " [5]\n",
      " [6]\n",
      " [7]\n",
      " [8]]\n"
     ]
    }
   ],
   "source": [
    "before = np.array([[1,2,3,4],[5,6,7,8]])\n",
    "print(before)\n",
    "\n",
    "# reshape((rows,columns))\n",
    "# rshape it in rows\n",
    "after = before.reshape((8,1))\n",
    "print(after)"
   ]
  },
  {
   "cell_type": "code",
   "execution_count": 271,
   "id": "ae268633-b158-45a1-8470-a51149b1816e",
   "metadata": {},
   "outputs": [
    {
     "data": {
      "text/plain": [
       "array([[1, 2, 3, 4],\n",
       "       [5, 6, 7, 8]])"
      ]
     },
     "execution_count": 271,
     "metadata": {},
     "output_type": "execute_result"
    }
   ],
   "source": [
    "# Vertically Stacking Vectors\n",
    "v1 = np.array([1,2,3,4])\n",
    "v2 = np.array([5,6,7,8])\n",
    "\n",
    "# add vertically\n",
    "np.vstack([v1,v2])\n"
   ]
  },
  {
   "cell_type": "code",
   "execution_count": 272,
   "id": "708ac9df-0dbe-4901-822d-0f409faad027",
   "metadata": {},
   "outputs": [
    {
     "data": {
      "text/plain": [
       "array([[1., 1., 1., 1., 0., 0.],\n",
       "       [1., 1., 1., 1., 0., 0.]])"
      ]
     },
     "execution_count": 272,
     "metadata": {},
     "output_type": "execute_result"
    }
   ],
   "source": [
    "# Horizontal stack(rows,columns)\n",
    "h1 = np.ones((2,4))\n",
    "h2 = np.zeros((2,2))\n",
    "\n",
    "#add horizontaly\n",
    "np.hstack((h1,h2))"
   ]
  },
  {
   "cell_type": "markdown",
   "id": "8f146999-752f-4049-9a88-2f045cbfa76b",
   "metadata": {},
   "source": [
    "# Miscellaneous"
   ]
  },
  {
   "cell_type": "markdown",
   "id": "eb728461-9d02-485e-813a-bf19acdadaf5",
   "metadata": {},
   "source": [
    "## Load Data from File"
   ]
  },
  {
   "cell_type": "code",
   "execution_count": 275,
   "id": "a1c9436d-b88a-459e-97eb-bd1710b72efd",
   "metadata": {},
   "outputs": [
    {
     "ename": "FileNotFoundError",
     "evalue": "data.txt not found.",
     "output_type": "error",
     "traceback": [
      "\u001b[1;31m---------------------------------------------------------------------------\u001b[0m",
      "\u001b[1;31mFileNotFoundError\u001b[0m                         Traceback (most recent call last)",
      "Cell \u001b[1;32mIn[275], line 1\u001b[0m\n\u001b[1;32m----> 1\u001b[0m filedata \u001b[38;5;241m=\u001b[39m \u001b[43mnp\u001b[49m\u001b[38;5;241;43m.\u001b[39;49m\u001b[43mgenfromtxt\u001b[49m\u001b[43m(\u001b[49m\u001b[38;5;124;43m'\u001b[39;49m\u001b[38;5;124;43mdata.txt\u001b[39;49m\u001b[38;5;124;43m'\u001b[39;49m\u001b[43m,\u001b[49m\u001b[43m \u001b[49m\u001b[43mdelimiter\u001b[49m\u001b[43m  \u001b[49m\u001b[38;5;241;43m=\u001b[39;49m\u001b[43m \u001b[49m\u001b[38;5;124;43m'\u001b[39;49m\u001b[38;5;124;43m,\u001b[39;49m\u001b[38;5;124;43m'\u001b[39;49m\u001b[43m)\u001b[49m\n\u001b[0;32m      2\u001b[0m filedta \u001b[38;5;241m=\u001b[39m filedata\u001b[38;5;241m.\u001b[39mastype(\u001b[38;5;124m'\u001b[39m\u001b[38;5;124mint32\u001b[39m\u001b[38;5;124m'\u001b[39m)\n\u001b[0;32m      3\u001b[0m \u001b[38;5;28mprint\u001b[39m(filedata)\n",
      "File \u001b[1;32m~\\AppData\\Local\\Programs\\Python\\Python312\\Lib\\site-packages\\numpy\\lib\\_npyio_impl.py:2007\u001b[0m, in \u001b[0;36mgenfromtxt\u001b[1;34m(fname, dtype, comments, delimiter, skip_header, skip_footer, converters, missing_values, filling_values, usecols, names, excludelist, deletechars, replace_space, autostrip, case_sensitive, defaultfmt, unpack, usemask, loose, invalid_raise, max_rows, encoding, ndmin, like)\u001b[0m\n\u001b[0;32m   2005\u001b[0m     fname \u001b[38;5;241m=\u001b[39m os\u001b[38;5;241m.\u001b[39mfspath(fname)\n\u001b[0;32m   2006\u001b[0m \u001b[38;5;28;01mif\u001b[39;00m \u001b[38;5;28misinstance\u001b[39m(fname, \u001b[38;5;28mstr\u001b[39m):\n\u001b[1;32m-> 2007\u001b[0m     fid \u001b[38;5;241m=\u001b[39m \u001b[43mnp\u001b[49m\u001b[38;5;241;43m.\u001b[39;49m\u001b[43mlib\u001b[49m\u001b[38;5;241;43m.\u001b[39;49m\u001b[43m_datasource\u001b[49m\u001b[38;5;241;43m.\u001b[39;49m\u001b[43mopen\u001b[49m\u001b[43m(\u001b[49m\u001b[43mfname\u001b[49m\u001b[43m,\u001b[49m\u001b[43m \u001b[49m\u001b[38;5;124;43m'\u001b[39;49m\u001b[38;5;124;43mrt\u001b[39;49m\u001b[38;5;124;43m'\u001b[39;49m\u001b[43m,\u001b[49m\u001b[43m \u001b[49m\u001b[43mencoding\u001b[49m\u001b[38;5;241;43m=\u001b[39;49m\u001b[43mencoding\u001b[49m\u001b[43m)\u001b[49m\n\u001b[0;32m   2008\u001b[0m     fid_ctx \u001b[38;5;241m=\u001b[39m contextlib\u001b[38;5;241m.\u001b[39mclosing(fid)\n\u001b[0;32m   2009\u001b[0m \u001b[38;5;28;01melse\u001b[39;00m:\n",
      "File \u001b[1;32m~\\AppData\\Local\\Programs\\Python\\Python312\\Lib\\site-packages\\numpy\\lib\\_datasource.py:192\u001b[0m, in \u001b[0;36mopen\u001b[1;34m(path, mode, destpath, encoding, newline)\u001b[0m\n\u001b[0;32m    155\u001b[0m \u001b[38;5;250m\u001b[39m\u001b[38;5;124;03m\"\"\"\u001b[39;00m\n\u001b[0;32m    156\u001b[0m \u001b[38;5;124;03mOpen `path` with `mode` and return the file object.\u001b[39;00m\n\u001b[0;32m    157\u001b[0m \n\u001b[1;32m   (...)\u001b[0m\n\u001b[0;32m    188\u001b[0m \n\u001b[0;32m    189\u001b[0m \u001b[38;5;124;03m\"\"\"\u001b[39;00m\n\u001b[0;32m    191\u001b[0m ds \u001b[38;5;241m=\u001b[39m DataSource(destpath)\n\u001b[1;32m--> 192\u001b[0m \u001b[38;5;28;01mreturn\u001b[39;00m \u001b[43mds\u001b[49m\u001b[38;5;241;43m.\u001b[39;49m\u001b[43mopen\u001b[49m\u001b[43m(\u001b[49m\u001b[43mpath\u001b[49m\u001b[43m,\u001b[49m\u001b[43m \u001b[49m\u001b[43mmode\u001b[49m\u001b[43m,\u001b[49m\u001b[43m \u001b[49m\u001b[43mencoding\u001b[49m\u001b[38;5;241;43m=\u001b[39;49m\u001b[43mencoding\u001b[49m\u001b[43m,\u001b[49m\u001b[43m \u001b[49m\u001b[43mnewline\u001b[49m\u001b[38;5;241;43m=\u001b[39;49m\u001b[43mnewline\u001b[49m\u001b[43m)\u001b[49m\n",
      "File \u001b[1;32m~\\AppData\\Local\\Programs\\Python\\Python312\\Lib\\site-packages\\numpy\\lib\\_datasource.py:529\u001b[0m, in \u001b[0;36mDataSource.open\u001b[1;34m(self, path, mode, encoding, newline)\u001b[0m\n\u001b[0;32m    526\u001b[0m     \u001b[38;5;28;01mreturn\u001b[39;00m _file_openers[ext](found, mode\u001b[38;5;241m=\u001b[39mmode,\n\u001b[0;32m    527\u001b[0m                               encoding\u001b[38;5;241m=\u001b[39mencoding, newline\u001b[38;5;241m=\u001b[39mnewline)\n\u001b[0;32m    528\u001b[0m \u001b[38;5;28;01melse\u001b[39;00m:\n\u001b[1;32m--> 529\u001b[0m     \u001b[38;5;28;01mraise\u001b[39;00m \u001b[38;5;167;01mFileNotFoundError\u001b[39;00m(\u001b[38;5;124mf\u001b[39m\u001b[38;5;124m\"\u001b[39m\u001b[38;5;132;01m{\u001b[39;00mpath\u001b[38;5;132;01m}\u001b[39;00m\u001b[38;5;124m not found.\u001b[39m\u001b[38;5;124m\"\u001b[39m)\n",
      "\u001b[1;31mFileNotFoundError\u001b[0m: data.txt not found."
     ]
    }
   ],
   "source": [
    "filedata = np.genfromtxt('data.txt', delimiter  = ',')\n",
    "filedta = filedata.astype('int32')\n",
    "print(filedata)"
   ]
  },
  {
   "cell_type": "markdown",
   "id": "fd282bd9-ca83-4897-905a-937dcb2e1808",
   "metadata": {},
   "source": [
    "## Booloean Masking And Advanced Indexing"
   ]
  },
  {
   "cell_type": "code",
   "execution_count": null,
   "id": "22ecba09-6574-4424-afd9-08270e902af7",
   "metadata": {},
   "outputs": [],
   "source": [
    "# Retuen true and false value\n",
    "filedat > 50"
   ]
  },
  {
   "cell_type": "code",
   "execution_count": 276,
   "id": "6276d11f-e8a3-4649-aa47-0a38b0371b4c",
   "metadata": {},
   "outputs": [
    {
     "ename": "NameError",
     "evalue": "name 'filedata' is not defined",
     "output_type": "error",
     "traceback": [
      "\u001b[1;31m---------------------------------------------------------------------------\u001b[0m",
      "\u001b[1;31mNameError\u001b[0m                                 Traceback (most recent call last)",
      "Cell \u001b[1;32mIn[276], line 2\u001b[0m\n\u001b[0;32m      1\u001b[0m \u001b[38;5;66;03m# TO get data frame\u001b[39;00m\n\u001b[1;32m----> 2\u001b[0m \u001b[43mfiledata\u001b[49m[filedata \u001b[38;5;241m>\u001b[39m \u001b[38;5;241m50\u001b[39m]\n",
      "\u001b[1;31mNameError\u001b[0m: name 'filedata' is not defined"
     ]
    }
   ],
   "source": [
    "# TO get data frame value\n",
    "filedata[filedata > 50]"
   ]
  },
  {
   "cell_type": "code",
   "execution_count": 277,
   "id": "9e1beb3d-0395-496b-a4c7-d5a9a668ba2f",
   "metadata": {},
   "outputs": [
    {
     "data": {
      "text/plain": [
       "array([2, 3, 9])"
      ]
     },
     "execution_count": 277,
     "metadata": {},
     "output_type": "execute_result"
    }
   ],
   "source": [
    "## You can index with a list in Numpy\n",
    "a = np.array([1,2,3,4,5,6,7,8,9])\n",
    "# access by index\n",
    "a[[1,2,8]]"
   ]
  },
  {
   "cell_type": "code",
   "execution_count": null,
   "id": "4350a788-3304-41da-a7da-f9045f394561",
   "metadata": {},
   "outputs": [],
   "source": [
    "# find all \n",
    "np.all(filedata > 50, axis = 1)"
   ]
  },
  {
   "cell_type": "code",
   "execution_count": null,
   "id": "5176dfd5-17cb-4d6a-8b3a-8d0ec8d160ba",
   "metadata": {},
   "outputs": [],
   "source": [
    "# use And operator\n",
    "\n",
    "((filedata >50) & (filedata <100))"
   ]
  },
  {
   "cell_type": "code",
   "execution_count": null,
   "id": "c876cca8-4458-4319-bba0-93cda8b9b2fa",
   "metadata": {},
   "outputs": [],
   "source": []
  },
  {
   "cell_type": "markdown",
   "id": "1fe30859-1887-4414-869a-518cb82fd9d3",
   "metadata": {},
   "source": [
    "## Author- Ayush Kumar Maurya"
   ]
  },
  {
   "cell_type": "code",
   "execution_count": null,
   "id": "4d207bc8-37f2-43f0-a733-64127c56f087",
   "metadata": {},
   "outputs": [],
   "source": []
  }
 ],
 "metadata": {
  "kernelspec": {
   "display_name": "Python 3 (ipykernel)",
   "language": "python",
   "name": "python3"
  },
  "language_info": {
   "codemirror_mode": {
    "name": "ipython",
    "version": 3
   },
   "file_extension": ".py",
   "mimetype": "text/x-python",
   "name": "python",
   "nbconvert_exporter": "python",
   "pygments_lexer": "ipython3",
   "version": "3.12.6"
  }
 },
 "nbformat": 4,
 "nbformat_minor": 5
}
